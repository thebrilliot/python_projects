{
 "cells": [
  {
   "cell_type": "code",
   "execution_count": 1,
   "metadata": {},
   "outputs": [],
   "source": [
    "#Pointers?"
   ]
  },
  {
   "cell_type": "code",
   "execution_count": 3,
   "metadata": {},
   "outputs": [
    {
     "data": {
      "text/plain": [
       "2"
      ]
     },
     "execution_count": 3,
     "metadata": {},
     "output_type": "execute_result"
    }
   ],
   "source": [
    "a = [1]\n",
    "b = a\n",
    "a[0] = 2\n",
    "b[0]"
   ]
  },
  {
   "cell_type": "code",
   "execution_count": 9,
   "metadata": {},
   "outputs": [
    {
     "name": "stdout",
     "output_type": "stream",
     "text": [
      "dad\n",
      "mom\n"
     ]
    }
   ],
   "source": [
    "c = {'hello':'world'}\n",
    "d = c\n",
    "c.update({'hello':'dad'})\n",
    "print(d['hello'])\n",
    "d['hello'] = 'mom'\n",
    "print(c['hello'])"
   ]
  },
  {
   "cell_type": "code",
   "execution_count": 17,
   "metadata": {},
   "outputs": [
    {
     "name": "stdout",
     "output_type": "stream",
     "text": [
      "{'character': 'Landon', 'loc': 9, 'turn': 58}\n",
      "{'character': 'Landon', 'loc': 7, 'turn': 59}\n"
     ]
    }
   ],
   "source": [
    "game = {'character':'Landon','loc':9,'turn':58}\n",
    "\n",
    "def take_action(action,game):\n",
    "    loc = action\n",
    "    game['turn'] += 1\n",
    "    game.update({'loc':loc})\n",
    "\n",
    "print(game)\n",
    "take_action(7,game)\n",
    "print(game)"
   ]
  }
 ],
 "metadata": {
  "kernelspec": {
   "display_name": "Python 3",
   "language": "python",
   "name": "python3"
  },
  "language_info": {
   "codemirror_mode": {
    "name": "ipython",
    "version": 3
   },
   "file_extension": ".py",
   "mimetype": "text/x-python",
   "name": "python",
   "nbconvert_exporter": "python",
   "pygments_lexer": "ipython3",
   "version": "3.7.7"
  }
 },
 "nbformat": 4,
 "nbformat_minor": 4
}
